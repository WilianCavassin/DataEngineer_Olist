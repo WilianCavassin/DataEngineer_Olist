{
 "cells": [
  {
   "cell_type": "code",
   "execution_count": 3,
   "metadata": {},
   "outputs": [
    {
     "name": "stdout",
     "output_type": "stream",
     "text": [
      "Requirement already satisfied: pymongo[srv] in c:\\users\\wilia\\anaconda3\\lib\\site-packages (3.10.1)\n",
      "Collecting dnspython<2.0.0,>=1.16.0; extra == \"srv\"\n",
      "  Downloading dnspython-1.16.0-py2.py3-none-any.whl (188 kB)\n",
      "Installing collected packages: dnspython\n",
      "Successfully installed dnspython-1.16.0\n"
     ]
    }
   ],
   "source": [
    "#genrenciador para mongo\n",
    "#!pip install pymongo\n",
    "#!pip install pymongo[srv]"
   ]
  },
  {
   "cell_type": "code",
   "execution_count": 6,
   "metadata": {},
   "outputs": [],
   "source": [
    "#gerenciador para mysql\n",
    "#!pip install pymysql"
   ]
  },
  {
   "cell_type": "code",
   "execution_count": 11,
   "metadata": {},
   "outputs": [],
   "source": [
    "import pymysql\n",
    "conn = pymysql.connect(\n",
    "    host='cavassin-olist.cheow94jgvzf.us-east-1.rds.amazonaws.com',\n",
    "    port=3306,\n",
    "    user='mysqlread',\n",
    "    passwd='mysqlread',\n",
    "    db='dados')\n",
    "cursor = conn.cursor()\n",
    "import pymongo\n",
    "conn2 = "
   ]
  },
  {
   "cell_type": "code",
   "execution_count": null,
   "metadata": {},
   "outputs": [],
   "source": []
  }
 ],
 "metadata": {
  "kernelspec": {
   "display_name": "Python 3",
   "language": "python",
   "name": "python3"
  },
  "language_info": {
   "codemirror_mode": {
    "name": "ipython",
    "version": 3
   },
   "file_extension": ".py",
   "mimetype": "text/x-python",
   "name": "python",
   "nbconvert_exporter": "python",
   "pygments_lexer": "ipython3",
   "version": "3.8.3"
  }
 },
 "nbformat": 4,
 "nbformat_minor": 4
}
